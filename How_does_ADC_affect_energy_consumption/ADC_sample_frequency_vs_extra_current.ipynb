{
 "cells": [
  {
   "cell_type": "code",
   "execution_count": 1,
   "metadata": {},
   "outputs": [],
   "source": [
    "import yaml\n",
    "import itertools\n",
    "import numpy as np\n",
    "import matplotlib.pyplot as plt\n",
    "\n",
    "\n",
    "raw_data = yaml.safe_load(open(\"./rawdata.yaml\", \"r\"))\n",
    "\n",
    "board_keys = ['MSP430FR5994', 'MSP430FR5969', 'MSP430FR2433']\n",
    "frequency_keys = ['1MHZ', '2MHZ', '4MHZ']\n",
    "system_keys = ['idle', 'testbench']\n",
    "adc_keys = ['ADC_off', 'ADC_on']\n",
    "interval_keys = ['100us', '150us', '200us', '250us', '300us', '400us', '500us', '600us', '800us', '1000us']"
   ]
  },
  {
   "cell_type": "markdown",
   "metadata": {},
   "source": [
    "将原始数据中每个条件下的平均电流提取出来，计算ADC带来的额外的电流值大小并输出。"
   ]
  },
  {
   "cell_type": "code",
   "execution_count": 2,
   "metadata": {},
   "outputs": [
    {
     "name": "stdout",
     "output_type": "stream",
     "text": [
      "MSP430FR5994, 1MHZ, idle      , extra current: [0.1996 0.1242 0.094  0.0758 0.0646 0.0494 0.0399 0.0339 0.0262 0.0218]\n",
      "MSP430FR5994, 1MHZ, testbench , extra current: [0.182  0.1239 0.0942 0.0762 0.0639 0.0488 0.0394 0.0334 0.0263 0.0215]\n",
      "MSP430FR5994, 2MHZ, idle      , extra current: [0.1875 0.1304 0.1014 0.0839 0.0722 0.0573 0.0486 0.0426 0.0354 0.0309]\n",
      "MSP430FR5994, 2MHZ, testbench , extra current: [0.1795 0.1223 0.0948 0.0767 0.0645 0.0513 0.0418 0.0358 0.0285 0.0248]\n",
      "MSP430FR5994, 4MHZ, idle      , extra current: [0.1826 0.1259 0.0964 0.0793 0.0675 0.0529 0.0439 0.0383 0.0345 0.0301]\n",
      "MSP430FR5994, 4MHZ, testbench , extra current: [0.1739 0.1165 0.0889 0.0728 0.0606 0.0461 0.0366 0.0314 0.0237 0.0193]\n",
      "\n",
      "MSP430FR5969, 1MHZ, idle      , extra current: [0.1819 0.1214 0.0921 0.0741 0.0693 0.0546 0.045  0.0389 0.0312 0.0266]\n",
      "MSP430FR5969, 1MHZ, testbench , extra current: [0.1843 0.1233 0.094  0.0759 0.0623 0.0476 0.0396 0.0336 0.0253 0.0212]\n",
      "MSP430FR5969, 2MHZ, idle      , extra current: [0.19   0.1299 0.1007 0.0832 0.0716 0.057  0.0483 0.0425 0.035  0.0305]\n",
      "MSP430FR5969, 2MHZ, testbench , extra current: [0.1834 0.124  0.0947 0.0778 0.0653 0.0519 0.0431 0.0375 0.0297 0.0257]\n",
      "MSP430FR5969, 4MHZ, idle      , extra current: [0.1798 0.1196 0.0904 0.0725 0.0614 0.0389 0.0299 0.025  0.0176 0.0129]\n",
      "MSP430FR5969, 4MHZ, testbench , extra current: [0.1932 0.1326 0.1054 0.0887 0.0763 0.0624 0.0532 0.0487 0.0425 0.0373]\n",
      "\n",
      "MSP430FR2433, 1MHZ, idle      , extra current: [0.0378 0.0273 0.0223 0.0191 0.0161 0.0131 0.0111 0.0101 0.0082 0.0075]\n",
      "MSP430FR2433, 1MHZ, testbench , extra current: [0.0395 0.0295 0.0229 0.0191 0.0158 0.0135 0.0121 0.0111 0.0094 0.0081]\n",
      "MSP430FR2433, 2MHZ, idle      , extra current: [0.0353 0.0248 0.0185 0.0149 0.0143 0.0098 0.0091 0.0079 0.0071 0.0062]\n",
      "MSP430FR2433, 2MHZ, testbench , extra current: [0.0442 0.0329 0.0278 0.0261 0.0235 0.0198 0.0193 0.0174 0.0157 0.0157]\n",
      "MSP430FR2433, 4MHZ, idle      , extra current: [0.0441 0.0346 0.0325 0.0263 0.0249 0.0215 0.0213 0.018  0.0181 0.0149]\n",
      "MSP430FR2433, 4MHZ, testbench , extra current: [0.0472 0.0394 0.034  0.0313 0.031  0.0286 0.028  0.0273 0.0254 0.0242]\n",
      "\n"
     ]
    }
   ],
   "source": [
    "# Take the average value of the current in each case and calculate the amount of additional current brought by the ADC based on it.\n",
    "\n",
    "current_vector = []\n",
    "\n",
    "for board in board_keys:\n",
    "    for frequ, system in itertools.product(frequency_keys, system_keys):\n",
    "        case_data = raw_data[board][frequ][system]\n",
    "        adc_off_current = case_data['ADC_off'][0]   # mean value as index 0\n",
    "        adc_on_current = np.array([case_data['ADC_on'][int_key][0] for int_key in interval_keys])\n",
    "        adc_extra_current = adc_on_current - adc_off_current\n",
    "        print(\"{}, {}, {:10}, extra current: {}\".format(board, frequ, system, adc_extra_current))\n",
    "        current_vector.append(adc_extra_current)\n",
    "    print()\n"
   ]
  },
  {
   "cell_type": "markdown",
   "metadata": {},
   "source": [
    "从上面的输出可以看出来，如果我们将误差允许的范围扩到一个比较大的值，ADC带来的额外的电流消耗与开发板本身的能耗（例如频率、是否运行testbench等）关系不大（**这也是符合我们的预期的：频率、是否运行testbench等和ADC是独立的**），**其与ADC的类型（例如FR5994和FR5969是12-bit的ADC，而FR2433是10-bit的ADC）以及ADC的sample frequency有关系**。\n",
    "\n",
    "因此，我们将开发板的类型（即ADC的类型）与sample frequency作为变量，将属于同一类的值求平均。"
   ]
  },
  {
   "cell_type": "code",
   "execution_count": 3,
   "metadata": {},
   "outputs": [],
   "source": [
    "intervals =  1e-6 * np.array([100, 150, 200, 250, 300, 400, 500, 600, 800, 1000]) # standard unit in (s)\n",
    "frequencys = np.power(intervals, -1)\n",
    "\n",
    "fr5994_extra_current = 1e-3 * (sum(current_vector[ 0:  6]) / 6)    # standard unit in (A)\n",
    "fr5969_extra_current = 1e-3 * (sum(current_vector[ 6: 12]) / 6)\n",
    "fr2433_extra_current = 1e-3 * (sum(current_vector[12: 18]) / 6)"
   ]
  },
  {
   "cell_type": "markdown",
   "metadata": {},
   "source": [
    "绘制`extra current`与`frequencys`（即每秒ADC采样的次数）之间的关系。"
   ]
  },
  {
   "cell_type": "code",
   "execution_count": 4,
   "metadata": {},
   "outputs": [
    {
     "data": {
      "image/png": "[encoded data removed]",
      "text/plain": [
       "<Figure size 432x288 with 1 Axes>"
      ]
     },
     "metadata": {
      "needs_background": "light"
     },
     "output_type": "display_data"
    }
   ],
   "source": [
    "plt.plot(frequencys, fr5994_extra_current, 'o', label=\"MSP430-FR5994\")\n",
    "plt.plot(frequencys, fr5969_extra_current, 'o', label=\"MSP430-FR5969\")\n",
    "plt.plot(frequencys, fr2433_extra_current, 'o', label=\"MSP430-FR2433\")\n",
    "\n",
    "plt.title(\"extra current vs. frequencys\")\n",
    "plt.ylim(0, 4e-4)\n",
    "plt.ylabel(\"A\")\n",
    "plt.xlabel(\"Hz\")\n",
    "plt.legend()\n",
    "\n",
    "plt.show()"
   ]
  },
  {
   "cell_type": "markdown",
   "metadata": {},
   "source": [
    "可以看到这些点很好地满足了线性增长的趋势，并且FR5994和FR5969的ADC能耗几乎完全相同，并且都远高于FR2433。这整体符合预期，即：\n",
    "\n",
    "- 10-bit的ADC更加节能；\n",
    "- ADC的能耗与开发板没有直接的关系。\n",
    "\n",
    "尝试使用最小二乘法进行线性回归。"
   ]
  },
  {
   "cell_type": "code",
   "execution_count": 5,
   "metadata": {},
   "outputs": [
    {
     "name": "stdout",
     "output_type": "stream",
     "text": [
      "(1.7700283956915548e-08, 6.611437527874333e-06)\n",
      "(1.7692658510525652e-08, 8.004969406449814e-06)\n",
      "(3.1641174715321152e-09, 1.010259379401734e-05)\n"
     ]
    }
   ],
   "source": [
    "def regression(x,y):\n",
    "    n = len(x)\n",
    "    X = sum(x)\n",
    "    Y = sum(y)\n",
    "\n",
    "    A = sum([xi**2 for xi in x])\n",
    "    C = sum([xi*yi for xi, yi in zip(x,y)])\n",
    "\n",
    "    D = X**2 - n*A\n",
    "    m = (X*Y - n*C) / float(D)\n",
    "    b = (C*X - A*Y) / float(D)\n",
    "\n",
    "    return (m, b)\n",
    "\n",
    "fr5994_regression_param = regression(frequencys, fr5994_extra_current)\n",
    "fr5969_regression_param = regression(frequencys, fr5969_extra_current)\n",
    "fr2433_regression_param = regression(frequencys, fr2433_extra_current)\n",
    "\n",
    "print(fr5994_regression_param)\n",
    "print(fr5969_regression_param)\n",
    "print(fr2433_regression_param)"
   ]
  },
  {
   "cell_type": "markdown",
   "metadata": {},
   "source": [
    "即我们得到了自变量`frequency`（用$N_{\\text{ps}}$）和因变量`extra current`（用$I_{\\text{extra}}$）的关系如下。"
   ]
  },
  {
   "cell_type": "markdown",
   "metadata": {},
   "source": [
    "$$\n",
    "\\text{For MSP430FR5994: } I_{\\text{extra}} = (1.77 N_{\\text{ps}} + 661) \\times 10^{-8} \\\\ \n",
    "\\text{For MSP430FR5969: } I_{\\text{extra}} = (1.77 N_{\\text{ps}} + 800) \\times 10^{-8} \\\\ \n",
    "\\text{For MSP430FR2433: } I_{\\text{extra}} = (0.316 N_{\\text{ps}} + 1010) \\times 10^{-8} \\\\ \n",
    "$$\n"
   ]
  },
  {
   "cell_type": "markdown",
   "metadata": {},
   "source": [
    "另外从这个结果还能看出一些问题：**对于FR2433来说，其基础能耗高（即截距），但每秒额外进行一次ADC采样带来的电流大小低（即斜率）。这说明FR2433的基础能耗高，低功耗不好，但因为只有10-bit ADC，所以当采样次数足够多时，能耗低于FR5994和FR2433**。\n",
    "\n",
    "将线性回归的结果同上面的散点图结合，得到下图。"
   ]
  },
  {
   "cell_type": "code",
   "execution_count": 6,
   "metadata": {},
   "outputs": [
    {
     "data": {
      "image/png": "[encoded data removed]",
      "text/plain": [
       "<Figure size 432x288 with 1 Axes>"
      ]
     },
     "metadata": {
      "needs_background": "light"
     },
     "output_type": "display_data"
    }
   ],
   "source": [
    "x_ticks = np.arange(frequencys.min(), frequencys.max(), 1)\n",
    "\n",
    "m, b = fr5994_regression_param\n",
    "y_fr5994_ticks = x_ticks * m + b\n",
    "plt.plot(x_ticks, y_fr5994_ticks, label=\"regression-FR5994\")\n",
    "\n",
    "m, b = fr5969_regression_param\n",
    "y_fr5969_ticks = x_ticks * m + b\n",
    "plt.plot(x_ticks, y_fr5969_ticks, label=\"regression-FR5969\")\n",
    "\n",
    "m, b = fr2433_regression_param\n",
    "y_fr2433_ticks = x_ticks * m + b\n",
    "plt.plot(x_ticks, y_fr2433_ticks, label=\"regression-FR2433\")\n",
    "\n",
    "plt.plot(frequencys, fr5994_extra_current, 'o', label=\"MSP430-FR5994\")\n",
    "plt.plot(frequencys, fr5969_extra_current, 'o', label=\"MSP430-FR5969\")\n",
    "plt.plot(frequencys, fr2433_extra_current, 'o', label=\"MSP430-FR2433\")\n",
    "\n",
    "plt.title(\"extra current vs. frequencys\")\n",
    "plt.ylim(0, 4e-4)\n",
    "plt.ylabel(\"A\")\n",
    "plt.xlabel(\"Hz\")\n",
    "plt.legend()\n",
    "\n",
    "plt.show()"
   ]
  },
  {
   "cell_type": "markdown",
   "metadata": {},
   "source": [
    "可以看到拟合地非常精确。"
   ]
  }
 ],
 "metadata": {
  "kernelspec": {
   "display_name": "Python 3 (ipykernel)",
   "language": "python",
   "name": "python3"
  },
  "language_info": {
   "codemirror_mode": {
    "name": "ipython",
    "version": 3
   },
   "file_extension": ".py",
   "mimetype": "text/x-python",
   "name": "python",
   "nbconvert_exporter": "python",
   "pygments_lexer": "ipython3",
   "version": "3.9.12"
  },
  "vscode": {
   "interpreter": {
    "hash": "ad2bdc8ecc057115af97d19610ffacc2b4e99fae6737bb82f5d7fb13d2f2c186"
   }
  }
 },
 "nbformat": 4,
 "nbformat_minor": 2
}
