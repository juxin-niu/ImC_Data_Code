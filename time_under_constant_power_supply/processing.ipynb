{
 "cells": [
  {
   "cell_type": "code",
   "execution_count": 31,
   "metadata": {},
   "outputs": [],
   "source": [
    "import numpy as np\n",
    "import yaml\n",
    "import itertools\n",
    "\n",
    "jit_yaml = yaml.safe_load(open(\"./JIT_checkpoint.yaml\", \"r\"))\n",
    "pc_yaml = yaml.safe_load(open(\"./P_checkpoint.yaml\", \"r\"))"
   ]
  },
  {
   "cell_type": "code",
   "execution_count": 32,
   "metadata": {},
   "outputs": [],
   "source": [
    "target_expt = \"MSP430FR2433\"\n",
    "freq_expt = \"1MHZ\"\n",
    "\n",
    "jit_data = jit_yaml[target_expt][freq_expt]\n",
    "pc_data = pc_yaml[target_expt][freq_expt]"
   ]
  },
  {
   "cell_type": "code",
   "execution_count": 33,
   "metadata": {},
   "outputs": [],
   "source": [
    "testbench_keys = ['AR', 'BC', 'CEM', 'CRC', 'CUCKOO', 'DIJKSTRA', 'RSA', 'SORT']\n",
    "freq_keys = ['100us', '200us', '300us', '400us', '500us', '600us', '800us', '1000us']\n",
    "\n",
    "pc_time = np.array([np.array(pc_data['BACKUP_WITH_CPU'][testbench_key]).mean() for testbench_key in testbench_keys])\n",
    "\n",
    "jit_time = np.array([[np.array(jit_data['ADC_TURN_ON'][freq_key][testbench_key]).mean() for testbench_key in testbench_keys] for freq_key in freq_keys])\n",
    "jit_normalized = np.array([time_vec / pc_time for time_vec in jit_time])"
   ]
  },
  {
   "cell_type": "code",
   "execution_count": 34,
   "metadata": {},
   "outputs": [
    {
     "name": "stdout",
     "output_type": "stream",
     "text": [
      "3.3194924970515327 2.3557395776422196 2.4793431591115516 2.872287326834274 0.6109864643773135 1.112768254330959 3.345699831365936 0.5306570657585802 \n",
      "2.11635226883448 1.4944529983609594 1.6695318305672529 1.760500769625449 0.3825878397828976 0.743117411575492 2.147163770559914 0.33390666561373844 \n",
      "1.5123494322383446 1.0665549891407904 1.1959499628436958 1.255708568496665 0.2731701883588148 0.5316602729452572 1.53395654617885 0.2382999766943317 \n",
      "1.3231684424887717 0.9334675871784567 1.0473701593592601 1.0977650076962544 0.23903530660926647 0.46505278298991803 1.3418627954151088 0.20847498107618256 \n",
      "1.2306301819390737 0.8682626619286498 0.9744447196763274 1.020683427398666 0.22226224419090768 0.4326110552057196 1.2478480827040106 0.19385645249206934 \n",
      "1.1757728902816245 0.8294900912534824 0.9311349186689787 0.9753309389430478 0.21237922888756766 0.41336397632345634 1.1921401862306622 0.18517268344546378 \n",
      "1.113581404873535 0.7855114213599071 0.8821381388820081 0.9234684453565931 0.20111762553035134 0.3914949589937615 1.1290686022924457 0.1753982669057584 \n",
      "1.0793690722535643 0.7613276681822901 0.8551399554124349 0.8950846587993843 0.19494942042885224 0.3794428307560704 1.0943055453723392 0.16998932947088427 \n"
     ]
    }
   ],
   "source": [
    "for freq_vec in jit_normalized:\n",
    "    for tb_normalized_time in freq_vec:\n",
    "        print(tb_normalized_time, end=' ')\n",
    "    print()"
   ]
  }
 ],
 "metadata": {
  "kernelspec": {
   "display_name": "Python 3.9.12 ('base')",
   "language": "python",
   "name": "python3"
  },
  "language_info": {
   "codemirror_mode": {
    "name": "ipython",
    "version": 3
   },
   "file_extension": ".py",
   "mimetype": "text/x-python",
   "name": "python",
   "nbconvert_exporter": "python",
   "pygments_lexer": "ipython3",
   "version": "3.9.12"
  },
  "orig_nbformat": 4,
  "vscode": {
   "interpreter": {
    "hash": "ad2bdc8ecc057115af97d19610ffacc2b4e99fae6737bb82f5d7fb13d2f2c186"
   }
  }
 },
 "nbformat": 4,
 "nbformat_minor": 2
}
