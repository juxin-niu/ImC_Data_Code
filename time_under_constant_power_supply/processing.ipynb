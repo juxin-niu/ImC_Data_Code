{
 "cells": [
  {
   "cell_type": "code",
   "execution_count": 6,
   "metadata": {},
   "outputs": [],
   "source": [
    "import numpy as np\n",
    "import yaml\n",
    "import itertools\n",
    "\n",
    "jit_yaml = yaml.safe_load(open(\"./JIT_checkpoint.yaml\", \"r\"))\n",
    "pc_yaml = yaml.safe_load(open(\"./P_checkpoint.yaml\", \"r\"))"
   ]
  },
  {
   "cell_type": "code",
   "execution_count": 7,
   "metadata": {},
   "outputs": [],
   "source": [
    "target_expt = \"MSP430FR5994\"\n",
    "freq_expt = \"2MHZ\"\n",
    "\n",
    "jit_data = jit_yaml[target_expt][freq_expt]\n",
    "pc_data = pc_yaml[target_expt][freq_expt]"
   ]
  },
  {
   "cell_type": "code",
   "execution_count": 8,
   "metadata": {},
   "outputs": [],
   "source": [
    "testbench_keys = ['AR', 'BC', 'CEM', 'CRC', 'CUCKOO', 'DIJKSTRA', 'RSA', 'SORT']\n",
    "freq_keys = ['100us', '200us', '300us', '400us', '500us', '600us', '800us', '1000us']\n",
    "\n",
    "pc_time = np.array([np.array(pc_data['BACKUP_WITH_CPU'][testbench_key]).mean() for testbench_key in testbench_keys])\n",
    "\n",
    "jit_time = np.array([[np.array(jit_data['ADC_TURN_ON'][freq_key][testbench_key]).mean() for testbench_key in testbench_keys] for freq_key in freq_keys])\n",
    "jit_normalized = np.array([time_vec / pc_time for time_vec in jit_time])"
   ]
  },
  {
   "cell_type": "code",
   "execution_count": 9,
   "metadata": {},
   "outputs": [
    {
     "name": "stdout",
     "output_type": "stream",
     "text": [
      "1.9934406878078037 1.0092310329207528 1.297773870026474 1.52944418596328 0.11459342838998164 0.28438908299154386 2.1115002074108373 0.1016144452812832 \n",
      "1.2462047986924387 0.6302016380798472 0.8140704812331319 0.9535091800579794 0.07157870011918328 0.17793981129846237 1.3192728079568585 0.06342587541388964 \n",
      "1.107403061968176 0.5599833498610448 0.7237337919573326 0.847092086897391 0.06357602067003627 0.1581998525945055 1.17205934844056 0.05634221993357768 \n",
      "1.048904511229686 0.5303069257232405 0.6856783061830503 0.8020471708242368 0.06022670923626999 0.14979886464012243 1.1101882132762229 0.05336518483467794 \n",
      "1.0166264824165032 0.5139812196226785 0.6646988347600921 0.7774524891736159 0.058365014049709 0.14518991116287183 1.0760426012213122 0.051720948616368306 \n",
      "0.996207785628774 0.5036238537726032 0.6513588024245236 0.761669231595147 0.057194059974423436 0.14225755453159372 1.05438022747663 0.05067900103606586 \n",
      "0.9718224373878406 0.49127704117236565 0.6355324096439867 0.7430227980387245 0.05578647922121984 0.13879746372530818 1.0285358724278644 0.04943501620268189 \n",
      "0.95774799337617 0.4840844259987023 0.6263309435931129 0.7324934683798003 0.05498438437915946 0.13678217181179356 1.0136167626544728 0.04870715273634021 \n"
     ]
    }
   ],
   "source": [
    "for freq_vec in jit_normalized:\n",
    "    for tb_normalized_time in freq_vec:\n",
    "        print(tb_normalized_time, end=' ')\n",
    "    print()"
   ]
  }
 ],
 "metadata": {
  "kernelspec": {
   "display_name": "Python 3.9.12 ('base')",
   "language": "python",
   "name": "python3"
  },
  "language_info": {
   "codemirror_mode": {
    "name": "ipython",
    "version": 3
   },
   "file_extension": ".py",
   "mimetype": "text/x-python",
   "name": "python",
   "nbconvert_exporter": "python",
   "pygments_lexer": "ipython3",
   "version": "3.9.12"
  },
  "orig_nbformat": 4,
  "vscode": {
   "interpreter": {
    "hash": "ad2bdc8ecc057115af97d19610ffacc2b4e99fae6737bb82f5d7fb13d2f2c186"
   }
  }
 },
 "nbformat": 4,
 "nbformat_minor": 2
}
