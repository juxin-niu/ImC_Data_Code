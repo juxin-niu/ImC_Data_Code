{
 "cells": [
  {
   "cell_type": "code",
   "execution_count": 19,
   "metadata": {},
   "outputs": [],
   "source": [
    "import matplotlib.pyplot as plt\n",
    "import numpy as np\n",
    "import yaml"
   ]
  },
  {
   "cell_type": "code",
   "execution_count": 20,
   "metadata": {},
   "outputs": [],
   "source": [
    "adc_yaml = yaml.safe_load(open(\"adc_sample.yaml\", \"r\"))\n",
    "bp_yaml = yaml.safe_load(open(\"backup.yaml\", \"r\"))\n",
    "\n",
    "interval_keys = ['interval_100us', 'interval_150us', 'interval_200us', 'interval_300us', \n",
    "    'interval_400us', 'interval_500us', 'interval_700us', 'interval_1000us']\n",
    "adc_root_key = 'sample_energy'\n",
    "bp_root_key = 'backup_energy'"
   ]
  },
  {
   "cell_type": "code",
   "execution_count": 21,
   "metadata": {},
   "outputs": [],
   "source": [
    "adc_energy = [adc_yaml[adc_root_key][interval_key][1] for interval_key in interval_keys]\n",
    "bp_dma_energy = [bp_yaml[bp_root_key][interval_key]['DMA']['energy'] \n",
    "                                                        for interval_key in interval_keys]\n",
    "bp_cpu_energy = [bp_yaml[bp_root_key][interval_key]['CPU']['energy'] \n",
    "                                                        for interval_key in interval_keys]\n",
    "interval_in_us = [100, 150, 200, 300, 400, 500, 700, 1000]\n",
    "bpsize_in_byte = [0, 20, 50, 100, 200, 500]"
   ]
  },
  {
   "cell_type": "code",
   "execution_count": 22,
   "metadata": {},
   "outputs": [],
   "source": [
    "adc_energy = np.array(adc_energy)\n",
    "bp_dma_energy = np.array(bp_dma_energy)\n",
    "bp_cpu_energy = np.array(bp_cpu_energy)\n",
    "interval_in_us = np.array(interval_in_us)\n",
    "bpsize_in_byte = np.array(bpsize_in_byte)"
   ]
  },
  {
   "cell_type": "code",
   "execution_count": 23,
   "metadata": {},
   "outputs": [
    {
     "name": "stdout",
     "output_type": "stream",
     "text": [
      "ADC energy [7.939 7.13  6.654 6.11  5.813 5.619 5.401 5.233]\n",
      "DMA backup energy\n",
      "100 [0.61934752 0.66028467 0.68862577 0.71192845 0.73019272 0.74669354]\n",
      "150 [0.68737728 0.72131837 0.74950912 0.77671809 0.80098177 0.82608696]\n",
      "200 [0.7348963  0.76345056 0.7911031  0.81650135 0.84806132 0.87856928]\n",
      "300 [0.80032733 0.81800327 0.84304419 0.8710311  0.90392799 0.94238953]\n",
      "400 [0.83794942 0.85153965 0.87252709 0.90056769 0.932909   0.97798039]\n",
      "500 [0.87560064 0.88467699 0.90282968 0.9252536  0.9620929  1.01050009]\n",
      "700 [0.90705425 0.91038697 0.92575449 0.94926865 0.97778189 1.02962414]\n",
      "1000 [0.93579209 0.93369004 0.94592012 0.96617619 0.99178292 1.04204089]\n",
      "CPU backup energy\n",
      "100 [0.62111097 0.65549817 0.65663182 0.65713566 0.65776546 0.6582693 ]\n",
      "150 [0.68934081 0.72187938 0.72650771 0.77573633 0.72903226 0.73099579]\n",
      "200 [0.73339345 0.78839796 0.81334536 0.77877968 0.83513676 0.79855726]\n",
      "300 [0.80261866 0.82733224 0.83617021 0.89165303 0.84648118 0.86585925]\n",
      "400 [0.84345433 0.87115087 0.88009634 0.88680544 0.89334251 0.89970755]\n",
      "500 [0.87382096 0.90834668 0.9368215  0.91457555 0.97810998 0.99804236]\n",
      "700 [0.91316423 0.92705055 0.93593779 0.94445473 0.95389743 0.96389557]\n",
      "1000 [0.94267151 0.95107969 0.95967896 0.96808714 0.97840627 0.99101854]\n"
     ]
    }
   ],
   "source": [
    "print(\"ADC energy\", adc_energy)\n",
    "print(\"DMA backup energy\")\n",
    "for interval, base_energy, bp_energy in zip(interval_in_us, adc_energy, bp_dma_energy):\n",
    "    print(interval, bp_energy / base_energy)\n",
    "print(\"CPU backup energy\")\n",
    "for interval, base_energy, bp_energy in zip(interval_in_us, adc_energy, bp_cpu_energy):\n",
    "    print(interval, bp_energy / base_energy)"
   ]
  }
 ],
 "metadata": {
  "kernelspec": {
   "display_name": "Python 3.9.12 ('base')",
   "language": "python",
   "name": "python3"
  },
  "language_info": {
   "codemirror_mode": {
    "name": "ipython",
    "version": 3
   },
   "file_extension": ".py",
   "mimetype": "text/x-python",
   "name": "python",
   "nbconvert_exporter": "python",
   "pygments_lexer": "ipython3",
   "version": "3.9.12"
  },
  "orig_nbformat": 4,
  "vscode": {
   "interpreter": {
    "hash": "ad2bdc8ecc057115af97d19610ffacc2b4e99fae6737bb82f5d7fb13d2f2c186"
   }
  }
 },
 "nbformat": 4,
 "nbformat_minor": 2
}
