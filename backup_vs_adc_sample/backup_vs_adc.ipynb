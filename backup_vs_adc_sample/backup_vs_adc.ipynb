{
 "cells": [
  {
   "cell_type": "code",
   "execution_count": 30,
   "metadata": {},
   "outputs": [],
   "source": [
    "import numpy as np\n",
    "import yaml\n",
    "\n",
    "yaml_data = yaml.safe_load(open(\"./backup_vs_adc.yaml\", \"r\"))\n",
    "\n",
    "interval = [100, 200, 300, 400, 500, 700, 1000]\n",
    "bpsize = [20, 50, 100, 200, 400]\n",
    "\n",
    "bpsize_keys = ['20bytes', '50bytes', '100bytes', '200bytes', '400bytes']"
   ]
  },
  {
   "cell_type": "code",
   "execution_count": 31,
   "metadata": {},
   "outputs": [
    {
     "name": "stdout",
     "output_type": "stream",
     "text": [
      "[36000 21400 17350 15500 14300 13100 12200]\n",
      "[25.595 16.864 14.429 13.286 12.648 11.946 11.385]\n"
     ]
    }
   ],
   "source": [
    "adc_energy = np.array(yaml_data[\"adc\"][\"energy\"])\n",
    "adc_time = np.array(yaml_data[\"adc\"][\"time\"])\n",
    "\n",
    "print(adc_energy)\n",
    "print(adc_time)"
   ]
  },
  {
   "cell_type": "code",
   "execution_count": 32,
   "metadata": {},
   "outputs": [
    {
     "name": "stdout",
     "output_type": "stream",
     "text": [
      "0.39166666666666666 0.5222222222222223 0.7263888888888889 1.1444444444444444 1.9861111111111112 \n",
      "0.5607476635514018 0.6635514018691588 0.8411214953271028 1.191588785046729 1.9018691588785046 \n",
      "0.6484149855907781 0.7377521613832853 0.8876080691642652 1.175792507204611 1.7504322766570606 \n",
      "0.72 0.7935483870967742 0.9161290322580645 1.1612903225806452 1.6387096774193548 \n",
      "0.7517482517482518 0.8181818181818182 0.9230769230769231 1.132867132867133 1.5524475524475525 \n",
      "0.816793893129771 0.8702290076335878 0.9465648854961832 1.1145038167938932 1.4465648854961832 \n",
      "0.8647540983606558 0.9049180327868852 0.9672131147540983 1.0901639344262295 1.3278688524590163 \n"
     ]
    }
   ],
   "source": [
    "dma_bp_energy = yaml_data[\"backup\"][\"dma\"]\n",
    "dma_bp_energy_normalized = np.array([np.array(dma_bp_energy[sz_key][\"energy\"]) / adc_energy for sz_key in bpsize_keys])\n",
    "\n",
    "xsize, ysize = dma_bp_energy_normalized.shape\n",
    "\n",
    "for j in range(ysize):\n",
    "    for i in range(xsize):\n",
    "        print(dma_bp_energy_normalized[i, j], end=' ')\n",
    "    print()"
   ]
  },
  {
   "cell_type": "code",
   "execution_count": 33,
   "metadata": {},
   "outputs": [
    {
     "name": "stdout",
     "output_type": "stream",
     "text": [
      "0.6430555555555556 1.0916666666666666 1.8222222222222222 3.316666666666667 6.308333333333334 \n",
      "0.741588785046729 1.074766355140187 1.6121495327102804 2.6869158878504673 4.859813084112149 \n",
      "0.8011527377521613 1.069164265129683 1.515850144092219 2.4121037463976944 4.198847262247838 \n",
      "0.8516129032258064 1.110967741935484 1.5419354838709678 2.393548387096774 4.135483870967742 \n",
      "0.8615384615384616 1.055944055944056 1.3818181818181818 2.0314685314685317 3.3216783216783217 \n",
      "0.8969465648854962 1.0763358778625953 1.366412213740458 1.9465648854961832 3.118320610687023 \n",
      "0.9098360655737705 1.0491803278688525 1.268360655737705 1.709016393442623 2.5877049180327867 \n"
     ]
    }
   ],
   "source": [
    "cpu_bp_energy = yaml_data[\"backup\"][\"cpu\"]\n",
    "cpu_bp_energy_normalized = np.array([np.array(cpu_bp_energy[sz_key][\"energy\"]) / adc_energy for sz_key in bpsize_keys])\n",
    "\n",
    "\n",
    "xsize, ysize = cpu_bp_energy_normalized.shape\n",
    "\n",
    "for j in range(ysize):\n",
    "    for i in range(xsize):\n",
    "        print(cpu_bp_energy_normalized[i, j], end=' ')\n",
    "    print()"
   ]
  },
  {
   "cell_type": "code",
   "execution_count": 34,
   "metadata": {},
   "outputs": [
    {
     "name": "stdout",
     "output_type": "stream",
     "text": [
      "0.49345575307677286 0.6107442859933581 0.8080875170931823 1.2036335221722994 1.9898417659699161 \n",
      "0.6720232447817837 0.7652395635673623 0.9108752371916509 1.2127609108159394 1.8065702087286528 \n",
      "0.755977545221429 0.8252131124818075 0.9440016633169311 1.1754799362395174 1.6406542379929308 \n",
      "0.8122836068041548 0.8625620954388079 0.9581514376034924 1.1491043203371971 1.5249887099202168 \n",
      "0.8367330803289058 0.8848829854522454 0.9701138519924098 1.1285578747628082 1.4475015812776724 \n",
      "0.880880629499414 0.9162899715385904 0.9724594006361963 1.0913276410513981 1.3309057425079525 \n",
      "0.9088274044795783 0.9364075537988581 0.9842775581906017 1.0729029424681598 1.2472551602986386 \n"
     ]
    }
   ],
   "source": [
    "dma_bp_time = yaml_data[\"backup\"][\"dma\"]\n",
    "dma_bp_time_normalized = np.array([np.array(dma_bp_time[sz_key][\"time\"]) / adc_time for sz_key in bpsize_keys])\n",
    "\n",
    "xsize, ysize = dma_bp_time_normalized.shape\n",
    "\n",
    "for j in range(ysize):\n",
    "    for i in range(xsize):\n",
    "        print(dma_bp_time_normalized[i, j], end=' ')\n",
    "    print()"
   ]
  },
  {
   "cell_type": "code",
   "execution_count": 35,
   "metadata": {},
   "outputs": [
    {
     "name": "stdout",
     "output_type": "stream",
     "text": [
      "0.7864035944520414 1.255323305333073 2.0423520218792732 3.6163313147099045 6.766673178355148 \n",
      "0.8920185009487666 1.2537950664136621 1.8497390891840606 3.0444734345351043 5.436373339658444 \n",
      "0.9304179083789591 1.208469055374593 1.6721186499410907 2.6078730334742533 4.467184143045255 \n",
      "0.9475387626072558 1.1749209694415175 1.5563751317175976 2.3135631491795876 3.831928345626976 \n",
      "0.9561195445920304 1.1471378874130298 1.469560404807084 2.101438962681847 3.3825110689437063 \n",
      "0.9624141972208271 1.1090741670852169 1.3537585802779173 1.8343378536748702 2.795914950611083 \n",
      "0.9754062362758016 1.0857268335529207 1.2581466842336408 1.6081686429512518 2.322353974527888 \n"
     ]
    }
   ],
   "source": [
    "cpu_bp_time = yaml_data[\"backup\"][\"cpu\"]\n",
    "cpu_bp_time_normalized = np.array([np.array(cpu_bp_time[sz_key][\"time\"]) / adc_time for sz_key in bpsize_keys])\n",
    "\n",
    "xsize, ysize = cpu_bp_time_normalized.shape\n",
    "\n",
    "for j in range(ysize):\n",
    "    for i in range(xsize):\n",
    "        print(cpu_bp_time_normalized[i, j], end=' ')\n",
    "    print()"
   ]
  }
 ],
 "metadata": {
  "kernelspec": {
   "display_name": "Python 3.9.12 ('base')",
   "language": "python",
   "name": "python3"
  },
  "language_info": {
   "codemirror_mode": {
    "name": "ipython",
    "version": 3
   },
   "file_extension": ".py",
   "mimetype": "text/x-python",
   "name": "python",
   "nbconvert_exporter": "python",
   "pygments_lexer": "ipython3",
   "version": "3.9.12"
  },
  "orig_nbformat": 4,
  "vscode": {
   "interpreter": {
    "hash": "ad2bdc8ecc057115af97d19610ffacc2b4e99fae6737bb82f5d7fb13d2f2c186"
   }
  }
 },
 "nbformat": 4,
 "nbformat_minor": 2
}
