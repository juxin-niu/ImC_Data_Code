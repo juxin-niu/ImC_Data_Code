{
 "cells": [
  {
   "cell_type": "code",
   "execution_count": 85,
   "metadata": {},
   "outputs": [],
   "source": [
    "import numpy as np\n",
    "import yaml\n",
    "\n",
    "fr2433_data = yaml.safe_load(open(\"./fr2433.yaml\", \"r\"))\n",
    "fr5969_data = yaml.safe_load(open(\"./fr5969.yaml\", \"r\"))\n",
    "fr5994_data = yaml.safe_load(open(\"./fr5994.yaml\", \"r\"))\n",
    "\n",
    "intv_keys = [\"adc_100us\", \"adc_200us\", \"adc_300us\", \"adc_400us\", \"adc_500us\", \n",
    "             \"adc_600us\", \"adc_800us\", \"adc_1000us\"]\n",
    "tb_keys = [\"AR\", \"BC\", \"CEM\", \"CRC\", \"CUCKOO\", \"DIJKSTRA\", \"RSA\", \"SORT\"]"
   ]
  },
  {
   "cell_type": "code",
   "execution_count": 86,
   "metadata": {},
   "outputs": [],
   "source": [
    "def mean_except(vec):\n",
    "    vec_sum = vec.sum()\n",
    "    return (vec_sum - vec.max() - vec.min()) / (len(vec) - 2)"
   ]
  },
  {
   "cell_type": "code",
   "execution_count": 87,
   "metadata": {},
   "outputs": [
    {
     "name": "stdout",
     "output_type": "stream",
     "text": [
      "4.101335813921162 3.131204040315415 3.2448681626474083 3.5827186592550353 0.7918748730844817 1.4464055777271636 4.334078428196744 0.696169575493955 \n",
      "2.592383985638001 1.9174238987088863 2.155351328747938 2.291337076413895 0.4792256883465273 0.9520114771793171 2.7522465861624936 0.42891395561664036 \n",
      "1.8321886369522398 1.3441133314015308 1.5378498730550854 1.630365549253936 0.345389277226858 0.676803202007874 1.9714968800727073 0.30411483232632935 \n",
      "1.6060252235203725 1.1756809123650385 1.326221609120843 1.3838075753462105 0.3038328577896923 0.5871458482377989 1.712747729770671 0.26737633580488473 \n",
      "1.5465868157627918 1.1627316768317204 1.3015434327583206 1.3661470962080993 0.28319199395897365 0.5633872592518621 1.6239059315366007 0.25134636923922754 \n",
      "1.4703913061858684 1.0630033221619721 1.2287313492949383 1.274964700179341 0.26677626726401266 0.5345325286868917 1.5418325963968644 0.24372833195292434 \n",
      "1.3932943751437383 1.0116489244822904 1.1573302566533883 1.2228270059833548 0.2635987351265976 0.5039593747468303 1.4590936471851597 0.23153520207155098 \n",
      "1.3932943751437383 1.0116489244822904 1.1573302566533883 1.2228270059833548 0.2635987351265976 0.5039593747468303 1.4590936471851597 0.23153520207155098 \n"
     ]
    }
   ],
   "source": [
    "data_select = fr5994_data\n",
    "trace_select = \"low_trace\"\n",
    "interval_select = intv_keys[0: ]\n",
    "\n",
    "pc_time = data_select[trace_select][\"PC\"]\n",
    "pc_average_time = np.array([np.array(pc_time[tb]).mean() for tb in tb_keys])\n",
    "\n",
    "jit_time = data_select[trace_select][\"JIT\"]\n",
    "jit_time = [jit_time[interval] for interval in interval_select]\n",
    "jit_average_time = np.array([np.array([mean_except(np.array(tvec[tb])) for tb in tb_keys]) for tvec in jit_time])\n",
    "jit_average_norm = np.array([item / pc_average_time for item in jit_average_time])\n",
    "\n",
    "xlen, ylen = jit_average_norm.shape\n",
    "for i in range(xlen):\n",
    "    for j in range(ylen):\n",
    "        print(jit_average_norm[i, j], end=\" \")\n",
    "    print()"
   ]
  }
 ],
 "metadata": {
  "kernelspec": {
   "display_name": "Python 3.9.12 ('base')",
   "language": "python",
   "name": "python3"
  },
  "language_info": {
   "codemirror_mode": {
    "name": "ipython",
    "version": 3
   },
   "file_extension": ".py",
   "mimetype": "text/x-python",
   "name": "python",
   "nbconvert_exporter": "python",
   "pygments_lexer": "ipython3",
   "version": "3.9.12"
  },
  "orig_nbformat": 4,
  "vscode": {
   "interpreter": {
    "hash": "ad2bdc8ecc057115af97d19610ffacc2b4e99fae6737bb82f5d7fb13d2f2c186"
   }
  }
 },
 "nbformat": 4,
 "nbformat_minor": 2
}
